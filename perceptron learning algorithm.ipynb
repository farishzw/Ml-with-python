{
 "cells": [
  {
   "cell_type": "markdown",
   "id": "326cd901",
   "metadata": {},
   "source": [
    "### 感知机算法\n",
    "\n",
    "#### 1.感知机模型\n",
    "感知机模型的假设空间是定义在特征空间中的所有线性分类器模型，即函数集合${f|f(x)=w\\cdot x+b}$\n",
    "$$f(x)=sign(wx+b)$$\n",
    "\n",
    "$$sign(x)=\n",
    "\\begin{cases}\n",
    "    +1, & \\text{if } x \\geq 0 \\\\\n",
    "    -1, & \\text{if } x < 0\n",
    "\\end{cases}\n",
    "$$\n",
    "\n",
    "#### 2.感知机学习策略\n",
    "确定模型的准则：损失函数与风险函数\n",
    "<br>所有误分类点集$M$到超平面$S$的总距离(**连续可导**)\n",
    "$$-\\frac{1}{||\\mathbf{w}||}\\sum_{x_i\\in M}y_i(\\omega \\cdot x_i +b)$$\n",
    "#### 3.感知机算法\n",
    "使用什么样子的计算方法求解最优模型---最优化问题\n",
    "$$min_{w,b} L(\\omega,b)=-\\sum_{x_i\\in M}y_i(\\omega \\cdot x_i+b)$$\n",
    "随机梯度下降法stochastic gradient descent:首先任意选取一个超平面$w_0,b_0$,然后用梯度下降法不断极小化目标函数,极小化过程中不是一次使$M$中所有误分类点的梯度下降，而是一次随机选取一个误分类点使其梯度下降\n",
    "\n",
    "损失函数的梯度\n",
    "$$\\nabla_{\\omega}L(\\omega,b)=-\\sum_{x_i\\in M}y_ix_i$$\n",
    "$$\\nabla_{b}L(\\omega,b)=-\\sum_{x_i\\in M}y_i$$\n",
    "\n",
    "更新：\n",
    "$$\\omega_{t+1}=\\omega_t+\\eta y_ix_i$$\n",
    "$$b_{t+1}=b_t+\\eta y_i$$\n",
    "- **适用问题类型**：二分类的线性分类模型、判别模型\n",
    "- **原理**：将输入空间划分为两个部分，在两个部分之间找到一个最优的超平面来进行分类；如果样本点是可以完美分割的，那么感知机算法会找到一个唯一的超平面来进行分类；如果样本点不能完美分割，那么感知机算法会在有限次迭代之后停止，返回一个近似的超平面\n",
    "- **感知机算法步骤**：\n",
    "    1. 初始化权重向量w和偏置\n",
    "    2. 从训练数据集中去取出一个样本x,计算它的预测值\n",
    "    3. 如果$\\hat{y}$等于样本标签$y$，则不需要更新权重向量和偏置\n",
    "    4. 如果$\\hat{y}$不等于标签$y$,则需要按照下面的公式更新权重向量和偏置: $w = w + \\alpha y (X +b)$\n",
    "    5. 对所有样本都重复执行步骤2到4,直到所有的样本都被正确分类或者达到了迭代次数的上限"
   ]
  },
  {
   "cell_type": "code",
   "execution_count": 1,
   "id": "a088a749",
   "metadata": {},
   "outputs": [],
   "source": [
    "import numpy as np"
   ]
  },
  {
   "cell_type": "code",
   "execution_count": 42,
   "id": "462b30cd",
   "metadata": {},
   "outputs": [],
   "source": [
    "class MyPerceptron(object):\n",
    "    \"\"\"感知机分类器\n",
    "    \n",
    "    参数 params\n",
    "    ---------\n",
    "    learning_rate : float\n",
    "        学习率 : learning rate(0-1)\n",
    "    max_iter : int\n",
    "        训练集循环的次数\n",
    "    \"\"\"\n",
    "    def __init__(self, learning_rate =0.1, max_iter=10):\n",
    "        self.learning_rate = learning_rate #学习率\n",
    "        self.max_iter = max_iter #最大迭代次数\n",
    "        self.w = None #权重\n",
    "        self.b = 0 #偏置\n",
    "    \n",
    "    def fit(self,X,y):\n",
    "        \"\"\"\n",
    "        训练集的拟合方法\n",
    "        \n",
    "        参数\n",
    "        --------\n",
    "        X: {array-like},shape = {n_samples, n_features}\n",
    "            特征集，训练向量\n",
    "        y: {array-like}, shape = {n_samples}\n",
    "            目标值，标签\n",
    "            \n",
    "        返回参数 return \n",
    "        ---------\n",
    "        self : object\n",
    "        \n",
    "        \"\"\"\n",
    "        n_samples, n_features = X.shape\n",
    "        self.w = np.zeros(n_features)#初始化权重向量为0向量\n",
    "        self.b = 0 #初始化偏置\n",
    "        \n",
    "        for _ in range(self.max_iter):\n",
    "            flag = True #标记位，如果所有样本都正确分类，则退出循环\n",
    "            for i in range(n_samples):\n",
    "                x = X[i]\n",
    "                y_hat = np.dot(self.w, x) + self.b #计算预测值\n",
    "                if y_hat*y[i]<=0:\n",
    "                    self.w += self.learning_rate*y[i]*x\n",
    "                    self.b += self.learning_rate*y[i]\n",
    "                    flag = False\n",
    "            if flag: #如果所有样本都被分类正确，则退出循环\n",
    "                break\n",
    "    \n",
    "    def predict(self,X):\n",
    "        \"\"\"\n",
    "        返回分类标签\n",
    "        \"\"\"\n",
    "        y_hat = np.dot(X,self.w)+self.b\n",
    "        return np.sign(y_hat)"
   ]
  },
  {
   "cell_type": "code",
   "execution_count": 54,
   "id": "9e2e1307",
   "metadata": {},
   "outputs": [
    {
     "name": "stdout",
     "output_type": "stream",
     "text": [
      "[-0.2 -0.1]\n",
      "0.20000000000000004\n",
      "[ 1. -1.]\n"
     ]
    }
   ],
   "source": [
    "X = np.array([[0,0],[0,1],[1,0],[1,1]])\n",
    "d = np.array([1,1,1,-1])\n",
    "perceptron = MyPerceptron()\n",
    "perceptron.fit(X,d)\n",
    "print(perceptron.w)\n",
    "print(perceptron.b)\n",
    "print(perceptron.predict(np.array([[0,0],[2,2]])))"
   ]
  },
  {
   "cell_type": "markdown",
   "id": "7138de47",
   "metadata": {},
   "source": [
    "#### 4.调用sklearn中感知机模型"
   ]
  },
  {
   "cell_type": "code",
   "execution_count": 4,
   "id": "642e49ef",
   "metadata": {},
   "outputs": [],
   "source": [
    "import matplotlib.pyplot as plt\n",
    "import numpy as np\n",
    "from sklearn.datasets import load_iris"
   ]
  },
  {
   "cell_type": "code",
   "execution_count": 5,
   "id": "29956e9d",
   "metadata": {},
   "outputs": [],
   "source": [
    "#导入数据集\n",
    "iris = load_iris()"
   ]
  },
  {
   "cell_type": "code",
   "execution_count": 24,
   "id": "dc63fd87",
   "metadata": {},
   "outputs": [],
   "source": [
    "#数据集中有3个类，每类各有50个,我们取0，1两类,数据集有4个特征，我们选取第二、三个特征方便分析\n",
    "data = iris.data[:,2:4][iris.target<2]\n",
    "target = iris.target[iris.target<2]"
   ]
  },
  {
   "cell_type": "code",
   "execution_count": 67,
   "id": "932e80e3",
   "metadata": {},
   "outputs": [],
   "source": [
    "#将数据切分为训练集和测试集\n",
    "from sklearn.model_selection import train_test_split\n",
    "X_train,X_test,y_train,y_test = train_test_split(data,target,test_size=0.33,random_state=42)"
   ]
  },
  {
   "cell_type": "code",
   "execution_count": 27,
   "id": "4c276f2b",
   "metadata": {},
   "outputs": [
    {
     "data": {
      "text/plain": [
       "(-2.0, 6.0)"
      ]
     },
     "execution_count": 27,
     "metadata": {},
     "output_type": "execute_result"
    },
    {
     "data": {
      "image/png": "[encoded data removed]",
      "text/plain": [
       "<Figure size 432x288 with 1 Axes>"
      ]
     },
     "metadata": {
      "needs_background": "light"
     },
     "output_type": "display_data"
    }
   ],
   "source": [
    "#数据分布\n",
    "plt.scatter(X_train[y_train==0][:,0],X_train[y_train==0][:,1],c='r')\n",
    "plt.scatter(X_train[y_train==1][:,0],X_train[y_train==1][:,1],c='g')\n",
    "plt.xlim(-2,6)\n",
    "plt.ylim(-2,6)"
   ]
  },
  {
   "cell_type": "code",
   "execution_count": 30,
   "id": "b10da956",
   "metadata": {},
   "outputs": [
    {
     "data": {
      "text/plain": [
       "array([1, 1, 1, 0, 0, 0, 0, 1, 0, 0, 0, 0, 1, 0, 1, 0, 1, 1, 0, 0, 1, 1,\n",
       "       0, 0, 1, 0, 0, 1, 0, 1, 0, 0, 1])"
      ]
     },
     "execution_count": 30,
     "metadata": {},
     "output_type": "execute_result"
    }
   ],
   "source": [
    "#导入感知机模型开始训练\n",
    "from sklearn.linear_model import Perceptron\n",
    "clf = Perceptron()\n",
    "clf.fit(X_train, y_train)\n",
    "X_predict = clf.predict(X_test)\n",
    "X_predict"
   ]
  },
  {
   "cell_type": "code",
   "execution_count": 35,
   "id": "3f4ffe7a",
   "metadata": {},
   "outputs": [
    {
     "data": {
      "text/plain": [
       "1.0"
      ]
     },
     "execution_count": 35,
     "metadata": {},
     "output_type": "execute_result"
    }
   ],
   "source": [
    "sum(X_predict==y_test)/(X_predict.shape[0])#准确度"
   ]
  },
  {
   "cell_type": "code",
   "execution_count": 38,
   "id": "54c4ecae",
   "metadata": {},
   "outputs": [
    {
     "name": "stdout",
     "output_type": "stream",
     "text": [
      "直线法向量 [[0.8 0.8]] 截距 [-2.]\n"
     ]
    }
   ],
   "source": [
    "#查看求得的超平面\n",
    "print('直线法向量',clf.coef_,'截距',clf.intercept_)"
   ]
  },
  {
   "cell_type": "markdown",
   "id": "88f4b673",
   "metadata": {},
   "source": [
    "直线方程为$0.8x_1+0.8x_2-2=0$化简为$x_1+x_2-2.5=0$"
   ]
  },
  {
   "cell_type": "code",
   "execution_count": 39,
   "id": "0f452da5",
   "metadata": {},
   "outputs": [
    {
     "data": {
      "text/plain": [
       "[<matplotlib.lines.Line2D at 0x15e2d6236d0>]"
      ]
     },
     "execution_count": 39,
     "metadata": {},
     "output_type": "execute_result"
    },
    {
     "data": {
      "image/png": "[encoded data removed]",
      "text/plain": [
       "<Figure size 432x288 with 1 Axes>"
      ]
     },
     "metadata": {
      "needs_background": "light"
     },
     "output_type": "display_data"
    }
   ],
   "source": [
    "#分割图\n",
    "#数据分布\n",
    "plt.scatter(X_train[y_train==0][:,0],X_train[y_train==0][:,1],c='r')\n",
    "plt.scatter(X_train[y_train==1][:,0],X_train[y_train==1][:,1],c='g')\n",
    "plt.xlim(-2,6)\n",
    "plt.ylim(-2,6)\n",
    "x_1 = np.ac(-2,6,0.01)\n",
    "x_2 = 2.5-x_1\n",
    "plt.plot(x_1,x_2)"
   ]
  },
  {
   "cell_type": "markdown",
   "id": "4d70aa29",
   "metadata": {},
   "source": [
    "#### 5.调用自编代码实现二分类"
   ]
  },
  {
   "cell_type": "code",
   "execution_count": 68,
   "id": "2215d96b",
   "metadata": {},
   "outputs": [
    {
     "data": {
      "text/plain": [
       "array([ 1.,  1.,  1., -1., -1., -1., -1.,  1., -1., -1., -1., -1.,  1.,\n",
       "       -1.,  1., -1.,  1.,  1., -1., -1.,  1.,  1., -1., -1.,  1., -1.,\n",
       "       -1.,  1., -1.,  1., -1., -1.,  1.])"
      ]
     },
     "execution_count": 68,
     "metadata": {},
     "output_type": "execute_result"
    }
   ],
   "source": [
    "#调用自定义的感知机代码查看在iris数据集上的效果\n",
    "clf2 = MyPerceptron(learning_rate=0.1,max_iter=100)\n",
    "y_train_con = np.where(y_train==0,-1,1)\n",
    "clf2.fit(X_train,y_train_con)\n",
    "X_predict = clf2.predict(X_test)\n",
    "sum(X_predict == np.where(y_test==0,-1,1))/(X_predict.shape[0])"
   ]
  },
  {
   "cell_type": "code",
   "execution_count": 70,
   "id": "1324b3cf",
   "metadata": {},
   "outputs": [
    {
     "name": "stdout",
     "output_type": "stream",
     "text": [
      "直线法向量 [0.02 0.04] 截距 -0.1\n"
     ]
    }
   ],
   "source": [
    "print('直线法向量',clf2.w,'截距',clf2.b)"
   ]
  },
  {
   "cell_type": "markdown",
   "id": "96f58ef2",
   "metadata": {},
   "source": [
    "直线为$0.02X_1+0.04X_2-0.1=0$化简可得$x_1+2x_2-5=0$"
   ]
  },
  {
   "cell_type": "code",
   "execution_count": 71,
   "id": "dafcf8bb",
   "metadata": {},
   "outputs": [
    {
     "data": {
      "text/plain": [
       "[<matplotlib.lines.Line2D at 0x15e2e66bd30>]"
      ]
     },
     "execution_count": 71,
     "metadata": {},
     "output_type": "execute_result"
    },
    {
     "data": {
      "image/png": "[encoded data removed]",
      "text/plain": [
       "<Figure size 432x288 with 1 Axes>"
      ]
     },
     "metadata": {
      "needs_background": "light"
     },
     "output_type": "display_data"
    }
   ],
   "source": [
    "#分割图\n",
    "plt.scatter(X_train[y_train==0][:,0],X_train[y_train==0][:,1],c='r')\n",
    "plt.scatter(X_train[y_train==1][:,0],X_train[y_train==1][:,1],c='g')\n",
    "plt.xlim(-2,6)\n",
    "plt.ylim(-2,6)\n",
    "x_1 = np.arange(-2,6,0.01)\n",
    "x_2 = 2.5-1/2*x_1\n",
    "plt.plot(x_1,x_2)"
   ]
  }
 ],
 "metadata": {
  "kernelspec": {
   "display_name": "Python 3",
   "language": "python",
   "name": "python3"
  },
  "language_info": {
   "codemirror_mode": {
    "name": "ipython",
    "version": 3
   },
   "file_extension": ".py",
   "mimetype": "text/x-python",
   "name": "python",
   "nbconvert_exporter": "python",
   "pygments_lexer": "ipython3",
   "version": "3.8.8"
  }
 },
 "nbformat": 4,
 "nbformat_minor": 5
}
